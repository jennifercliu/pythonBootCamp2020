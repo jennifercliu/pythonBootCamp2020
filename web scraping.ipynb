{
 "cells": [
  {
   "cell_type": "code",
   "execution_count": 1,
   "metadata": {},
   "outputs": [],
   "source": [
    "import requests"
   ]
  },
  {
   "cell_type": "code",
   "execution_count": 2,
   "metadata": {},
   "outputs": [],
   "source": [
    "import bs4"
   ]
  },
  {
   "cell_type": "code",
   "execution_count": 3,
   "metadata": {},
   "outputs": [],
   "source": [
    "result = requests.get(\"http://www.example.com\")"
   ]
  },
  {
   "cell_type": "code",
   "execution_count": 4,
   "metadata": {},
   "outputs": [
    {
     "data": {
      "text/plain": [
       "requests.models.Response"
      ]
     },
     "execution_count": 4,
     "metadata": {},
     "output_type": "execute_result"
    }
   ],
   "source": [
    "type(result)"
   ]
  },
  {
   "cell_type": "code",
   "execution_count": 5,
   "metadata": {},
   "outputs": [
    {
     "data": {
      "text/plain": [
       "'<!doctype html>\\n<html>\\n<head>\\n    <title>Example Domain</title>\\n\\n    <meta charset=\"utf-8\" />\\n    <meta http-equiv=\"Content-type\" content=\"text/html; charset=utf-8\" />\\n    <meta name=\"viewport\" content=\"width=device-width, initial-scale=1\" />\\n    <style type=\"text/css\">\\n    body {\\n        background-color: #f0f0f2;\\n        margin: 0;\\n        padding: 0;\\n        font-family: -apple-system, system-ui, BlinkMacSystemFont, \"Segoe UI\", \"Open Sans\", \"Helvetica Neue\", Helvetica, Arial, sans-serif;\\n        \\n    }\\n    div {\\n        width: 600px;\\n        margin: 5em auto;\\n        padding: 2em;\\n        background-color: #fdfdff;\\n        border-radius: 0.5em;\\n        box-shadow: 2px 3px 7px 2px rgba(0,0,0,0.02);\\n    }\\n    a:link, a:visited {\\n        color: #38488f;\\n        text-decoration: none;\\n    }\\n    @media (max-width: 700px) {\\n        div {\\n            margin: 0 auto;\\n            width: auto;\\n        }\\n    }\\n    </style>    \\n</head>\\n\\n<body>\\n<div>\\n    <h1>Example Domain</h1>\\n    <p>This domain is for use in illustrative examples in documents. You may use this\\n    domain in literature without prior coordination or asking for permission.</p>\\n    <p><a href=\"https://www.iana.org/domains/example\">More information...</a></p>\\n</div>\\n</body>\\n</html>\\n'"
      ]
     },
     "execution_count": 5,
     "metadata": {},
     "output_type": "execute_result"
    }
   ],
   "source": [
    "result.text"
   ]
  },
  {
   "cell_type": "code",
   "execution_count": 6,
   "metadata": {},
   "outputs": [],
   "source": [
    "soup = bs4.BeautifulSoup(result.text,'lxml')"
   ]
  },
  {
   "cell_type": "code",
   "execution_count": 7,
   "metadata": {},
   "outputs": [
    {
     "data": {
      "text/plain": [
       "<!DOCTYPE html>\n",
       "<html>\n",
       "<head>\n",
       "<title>Example Domain</title>\n",
       "<meta charset=\"utf-8\"/>\n",
       "<meta content=\"text/html; charset=utf-8\" http-equiv=\"Content-type\"/>\n",
       "<meta content=\"width=device-width, initial-scale=1\" name=\"viewport\"/>\n",
       "<style type=\"text/css\">\n",
       "    body {\n",
       "        background-color: #f0f0f2;\n",
       "        margin: 0;\n",
       "        padding: 0;\n",
       "        font-family: -apple-system, system-ui, BlinkMacSystemFont, \"Segoe UI\", \"Open Sans\", \"Helvetica Neue\", Helvetica, Arial, sans-serif;\n",
       "        \n",
       "    }\n",
       "    div {\n",
       "        width: 600px;\n",
       "        margin: 5em auto;\n",
       "        padding: 2em;\n",
       "        background-color: #fdfdff;\n",
       "        border-radius: 0.5em;\n",
       "        box-shadow: 2px 3px 7px 2px rgba(0,0,0,0.02);\n",
       "    }\n",
       "    a:link, a:visited {\n",
       "        color: #38488f;\n",
       "        text-decoration: none;\n",
       "    }\n",
       "    @media (max-width: 700px) {\n",
       "        div {\n",
       "            margin: 0 auto;\n",
       "            width: auto;\n",
       "        }\n",
       "    }\n",
       "    </style>\n",
       "</head>\n",
       "<body>\n",
       "<div>\n",
       "<h1>Example Domain</h1>\n",
       "<p>This domain is for use in illustrative examples in documents. You may use this\n",
       "    domain in literature without prior coordination or asking for permission.</p>\n",
       "<p><a href=\"https://www.iana.org/domains/example\">More information...</a></p>\n",
       "</div>\n",
       "</body>\n",
       "</html>"
      ]
     },
     "execution_count": 7,
     "metadata": {},
     "output_type": "execute_result"
    }
   ],
   "source": [
    "soup"
   ]
  },
  {
   "cell_type": "code",
   "execution_count": 8,
   "metadata": {},
   "outputs": [
    {
     "data": {
      "text/plain": [
       "'Example Domain'"
      ]
     },
     "execution_count": 8,
     "metadata": {},
     "output_type": "execute_result"
    }
   ],
   "source": [
    "soup.select('title')[0].getText()"
   ]
  },
  {
   "cell_type": "code",
   "execution_count": 9,
   "metadata": {},
   "outputs": [],
   "source": [
    "site_paragraphs = soup.select(\"p\")"
   ]
  },
  {
   "cell_type": "code",
   "execution_count": 10,
   "metadata": {},
   "outputs": [
    {
     "data": {
      "text/plain": [
       "'This domain is for use in illustrative examples in documents. You may use this\\n    domain in literature without prior coordination or asking for permission.'"
      ]
     },
     "execution_count": 10,
     "metadata": {},
     "output_type": "execute_result"
    }
   ],
   "source": [
    "site_paragraphs[0].getText()"
   ]
  },
  {
   "cell_type": "code",
   "execution_count": 11,
   "metadata": {},
   "outputs": [],
   "source": [
    "res = requests.get('https://en.wikipedia.org/wiki/Lindt_%26_Spr%C3%BCngli')"
   ]
  },
  {
   "cell_type": "code",
   "execution_count": 12,
   "metadata": {},
   "outputs": [],
   "source": [
    "soup = bs4.BeautifulSoup(res.text,'lxml')"
   ]
  },
  {
   "cell_type": "code",
   "execution_count": 14,
   "metadata": {},
   "outputs": [],
   "source": [
    "#soup"
   ]
  },
  {
   "cell_type": "code",
   "execution_count": 15,
   "metadata": {},
   "outputs": [
    {
     "data": {
      "text/plain": [
       "[<span class=\"toctext\">History</span>,\n",
       " <span class=\"toctext\">Founding and early years</span>,\n",
       " <span class=\"toctext\">Expansion</span>,\n",
       " <span class=\"toctext\">Recent developments</span>,\n",
       " <span class=\"toctext\">Factories</span>,\n",
       " <span class=\"toctext\">Lindt chocolate cafés</span>,\n",
       " <span class=\"toctext\">Products</span>,\n",
       " <span class=\"toctext\">Lindor</span>,\n",
       " <span class=\"toctext\">Seasonal confectioneries</span>,\n",
       " <span class=\"toctext\">Chocolate bars</span>,\n",
       " <span class=\"toctext\">Petits desserts</span>,\n",
       " <span class=\"toctext\">Liqueurs</span>,\n",
       " <span class=\"toctext\">Ice cream</span>,\n",
       " <span class=\"toctext\">Criticism</span>,\n",
       " <span class=\"toctext\">See also</span>,\n",
       " <span class=\"toctext\">References</span>,\n",
       " <span class=\"toctext\">External links</span>]"
      ]
     },
     "execution_count": 15,
     "metadata": {},
     "output_type": "execute_result"
    }
   ],
   "source": [
    "soup.select('.toctext')"
   ]
  },
  {
   "cell_type": "code",
   "execution_count": 16,
   "metadata": {},
   "outputs": [],
   "source": [
    "first_item = soup.select('.toctext')[0]"
   ]
  },
  {
   "cell_type": "code",
   "execution_count": 17,
   "metadata": {},
   "outputs": [
    {
     "data": {
      "text/plain": [
       "'History'"
      ]
     },
     "execution_count": 17,
     "metadata": {},
     "output_type": "execute_result"
    }
   ],
   "source": [
    "first_item.text"
   ]
  },
  {
   "cell_type": "code",
   "execution_count": 18,
   "metadata": {},
   "outputs": [
    {
     "name": "stdout",
     "output_type": "stream",
     "text": [
      "History\n",
      "Founding and early years\n",
      "Expansion\n",
      "Recent developments\n",
      "Factories\n",
      "Lindt chocolate cafés\n",
      "Products\n",
      "Lindor\n",
      "Seasonal confectioneries\n",
      "Chocolate bars\n",
      "Petits desserts\n",
      "Liqueurs\n",
      "Ice cream\n",
      "Criticism\n",
      "See also\n",
      "References\n",
      "External links\n"
     ]
    }
   ],
   "source": [
    "for item in soup.select('.toctext'):\n",
    "    print(item.text)"
   ]
  },
  {
   "cell_type": "code",
   "execution_count": 23,
   "metadata": {},
   "outputs": [
    {
     "data": {
      "text/plain": [
       "<img alt=\"\" class=\"thumbimage\" data-file-height=\"768\" data-file-width=\"1024\" decoding=\"async\" height=\"165\" src=\"//upload.wikimedia.org/wikipedia/commons/thumb/4/4a/Lindt_bunnies.jpg/220px-Lindt_bunnies.jpg\" srcset=\"//upload.wikimedia.org/wikipedia/commons/thumb/4/4a/Lindt_bunnies.jpg/330px-Lindt_bunnies.jpg 1.5x, //upload.wikimedia.org/wikipedia/commons/thumb/4/4a/Lindt_bunnies.jpg/440px-Lindt_bunnies.jpg 2x\" width=\"220\"/>"
      ]
     },
     "execution_count": 23,
     "metadata": {},
     "output_type": "execute_result"
    }
   ],
   "source": [
    "soup.select('img')[10]"
   ]
  },
  {
   "cell_type": "code",
   "execution_count": 24,
   "metadata": {},
   "outputs": [
    {
     "data": {
      "text/plain": [
       "[<img alt=\"\" class=\"thumbimage\" data-file-height=\"4000\" data-file-width=\"6000\" decoding=\"async\" height=\"147\" src=\"//upload.wikimedia.org/wikipedia/commons/thumb/0/0f/Kilchberg_-_Lindt_%26_Spr%C3%BCngli_-_ZSG_Helvetia_2015-09-09_18-03-57.JPG/220px-Kilchberg_-_Lindt_%26_Spr%C3%BCngli_-_ZSG_Helvetia_2015-09-09_18-03-57.JPG\" srcset=\"//upload.wikimedia.org/wikipedia/commons/thumb/0/0f/Kilchberg_-_Lindt_%26_Spr%C3%BCngli_-_ZSG_Helvetia_2015-09-09_18-03-57.JPG/330px-Kilchberg_-_Lindt_%26_Spr%C3%BCngli_-_ZSG_Helvetia_2015-09-09_18-03-57.JPG 1.5x, //upload.wikimedia.org/wikipedia/commons/thumb/0/0f/Kilchberg_-_Lindt_%26_Spr%C3%BCngli_-_ZSG_Helvetia_2015-09-09_18-03-57.JPG/440px-Kilchberg_-_Lindt_%26_Spr%C3%BCngli_-_ZSG_Helvetia_2015-09-09_18-03-57.JPG 2x\" width=\"220\"/>,\n",
       " <img alt=\"\" class=\"thumbimage\" data-file-height=\"1286\" data-file-width=\"940\" decoding=\"async\" height=\"233\" src=\"//upload.wikimedia.org/wikipedia/commons/thumb/f/fb/David_Spr%C3%BCngli_um_1840.jpg/170px-David_Spr%C3%BCngli_um_1840.jpg\" srcset=\"//upload.wikimedia.org/wikipedia/commons/thumb/f/fb/David_Spr%C3%BCngli_um_1840.jpg/255px-David_Spr%C3%BCngli_um_1840.jpg 1.5x, //upload.wikimedia.org/wikipedia/commons/thumb/f/fb/David_Spr%C3%BCngli_um_1840.jpg/340px-David_Spr%C3%BCngli_um_1840.jpg 2x\" width=\"170\"/>,\n",
       " <img alt=\"\" class=\"thumbimage\" data-file-height=\"766\" data-file-width=\"1024\" decoding=\"async\" height=\"165\" src=\"//upload.wikimedia.org/wikipedia/commons/thumb/2/21/Lindt_%26_Spr%C3%BCngli_1930_-_Kopie.jpg/220px-Lindt_%26_Spr%C3%BCngli_1930_-_Kopie.jpg\" srcset=\"//upload.wikimedia.org/wikipedia/commons/thumb/2/21/Lindt_%26_Spr%C3%BCngli_1930_-_Kopie.jpg/330px-Lindt_%26_Spr%C3%BCngli_1930_-_Kopie.jpg 1.5x, //upload.wikimedia.org/wikipedia/commons/thumb/2/21/Lindt_%26_Spr%C3%BCngli_1930_-_Kopie.jpg/440px-Lindt_%26_Spr%C3%BCngli_1930_-_Kopie.jpg 2x\" width=\"220\"/>,\n",
       " <img alt=\"\" class=\"thumbimage\" data-file-height=\"3024\" data-file-width=\"4032\" decoding=\"async\" height=\"165\" src=\"//upload.wikimedia.org/wikipedia/commons/thumb/8/87/Lindt_Store_in_Canal_Walk_mall%2C_Cape_Town.jpg/220px-Lindt_Store_in_Canal_Walk_mall%2C_Cape_Town.jpg\" srcset=\"//upload.wikimedia.org/wikipedia/commons/thumb/8/87/Lindt_Store_in_Canal_Walk_mall%2C_Cape_Town.jpg/330px-Lindt_Store_in_Canal_Walk_mall%2C_Cape_Town.jpg 1.5x, //upload.wikimedia.org/wikipedia/commons/thumb/8/87/Lindt_Store_in_Canal_Walk_mall%2C_Cape_Town.jpg/440px-Lindt_Store_in_Canal_Walk_mall%2C_Cape_Town.jpg 2x\" width=\"220\"/>,\n",
       " <img alt=\"\" class=\"thumbimage\" data-file-height=\"2176\" data-file-width=\"3872\" decoding=\"async\" height=\"124\" src=\"//upload.wikimedia.org/wikipedia/commons/thumb/8/88/Lindt%2C_Trinity_Leeds_%281st_December_2017%29.jpg/220px-Lindt%2C_Trinity_Leeds_%281st_December_2017%29.jpg\" srcset=\"//upload.wikimedia.org/wikipedia/commons/thumb/8/88/Lindt%2C_Trinity_Leeds_%281st_December_2017%29.jpg/330px-Lindt%2C_Trinity_Leeds_%281st_December_2017%29.jpg 1.5x, //upload.wikimedia.org/wikipedia/commons/thumb/8/88/Lindt%2C_Trinity_Leeds_%281st_December_2017%29.jpg/440px-Lindt%2C_Trinity_Leeds_%281st_December_2017%29.jpg 2x\" width=\"220\"/>,\n",
       " <img alt=\"\" class=\"thumbimage\" data-file-height=\"1650\" data-file-width=\"1100\" decoding=\"async\" height=\"255\" src=\"//upload.wikimedia.org/wikipedia/commons/thumb/8/82/Chocolates_bokeh.jpg/170px-Chocolates_bokeh.jpg\" srcset=\"//upload.wikimedia.org/wikipedia/commons/thumb/8/82/Chocolates_bokeh.jpg/255px-Chocolates_bokeh.jpg 1.5x, //upload.wikimedia.org/wikipedia/commons/thumb/8/82/Chocolates_bokeh.jpg/340px-Chocolates_bokeh.jpg 2x\" width=\"170\"/>,\n",
       " <img alt=\"\" class=\"thumbimage\" data-file-height=\"500\" data-file-width=\"375\" decoding=\"async\" height=\"227\" src=\"//upload.wikimedia.org/wikipedia/commons/thumb/b/b5/Lindor_dark.jpg/170px-Lindor_dark.jpg\" srcset=\"//upload.wikimedia.org/wikipedia/commons/thumb/b/b5/Lindor_dark.jpg/255px-Lindor_dark.jpg 1.5x, //upload.wikimedia.org/wikipedia/commons/thumb/b/b5/Lindor_dark.jpg/340px-Lindor_dark.jpg 2x\" width=\"170\"/>,\n",
       " <img alt=\"\" class=\"thumbimage\" data-file-height=\"768\" data-file-width=\"1024\" decoding=\"async\" height=\"165\" src=\"//upload.wikimedia.org/wikipedia/commons/thumb/4/4a/Lindt_bunnies.jpg/220px-Lindt_bunnies.jpg\" srcset=\"//upload.wikimedia.org/wikipedia/commons/thumb/4/4a/Lindt_bunnies.jpg/330px-Lindt_bunnies.jpg 1.5x, //upload.wikimedia.org/wikipedia/commons/thumb/4/4a/Lindt_bunnies.jpg/440px-Lindt_bunnies.jpg 2x\" width=\"220\"/>,\n",
       " <img alt=\"\" class=\"thumbimage\" data-file-height=\"3000\" data-file-width=\"4000\" decoding=\"async\" height=\"165\" src=\"//upload.wikimedia.org/wikipedia/commons/thumb/b/bf/B%C3%BCrkliplatz_-_ZSG_%27W%C3%A4denswil%27_mit_Lindt_%27Goldhase%27_2014-03-28_17-32-07_%28P7800%29.jpg/220px-B%C3%BCrkliplatz_-_ZSG_%27W%C3%A4denswil%27_mit_Lindt_%27Goldhase%27_2014-03-28_17-32-07_%28P7800%29.jpg\" srcset=\"//upload.wikimedia.org/wikipedia/commons/thumb/b/bf/B%C3%BCrkliplatz_-_ZSG_%27W%C3%A4denswil%27_mit_Lindt_%27Goldhase%27_2014-03-28_17-32-07_%28P7800%29.jpg/330px-B%C3%BCrkliplatz_-_ZSG_%27W%C3%A4denswil%27_mit_Lindt_%27Goldhase%27_2014-03-28_17-32-07_%28P7800%29.jpg 1.5x, //upload.wikimedia.org/wikipedia/commons/thumb/b/bf/B%C3%BCrkliplatz_-_ZSG_%27W%C3%A4denswil%27_mit_Lindt_%27Goldhase%27_2014-03-28_17-32-07_%28P7800%29.jpg/440px-B%C3%BCrkliplatz_-_ZSG_%27W%C3%A4denswil%27_mit_Lindt_%27Goldhase%27_2014-03-28_17-32-07_%28P7800%29.jpg 2x\" width=\"220\"/>]"
      ]
     },
     "execution_count": 24,
     "metadata": {},
     "output_type": "execute_result"
    }
   ],
   "source": [
    "soup.select('.thumbimage')"
   ]
  },
  {
   "cell_type": "code",
   "execution_count": 25,
   "metadata": {},
   "outputs": [],
   "source": [
    "bunny = soup.select('img')[10]"
   ]
  },
  {
   "cell_type": "code",
   "execution_count": 26,
   "metadata": {},
   "outputs": [
    {
     "data": {
      "text/plain": [
       "<img alt=\"\" class=\"thumbimage\" data-file-height=\"768\" data-file-width=\"1024\" decoding=\"async\" height=\"165\" src=\"//upload.wikimedia.org/wikipedia/commons/thumb/4/4a/Lindt_bunnies.jpg/220px-Lindt_bunnies.jpg\" srcset=\"//upload.wikimedia.org/wikipedia/commons/thumb/4/4a/Lindt_bunnies.jpg/330px-Lindt_bunnies.jpg 1.5x, //upload.wikimedia.org/wikipedia/commons/thumb/4/4a/Lindt_bunnies.jpg/440px-Lindt_bunnies.jpg 2x\" width=\"220\"/>"
      ]
     },
     "execution_count": 26,
     "metadata": {},
     "output_type": "execute_result"
    }
   ],
   "source": [
    "bunny"
   ]
  },
  {
   "cell_type": "code",
   "execution_count": 27,
   "metadata": {},
   "outputs": [
    {
     "data": {
      "text/plain": [
       "bs4.element.Tag"
      ]
     },
     "execution_count": 27,
     "metadata": {},
     "output_type": "execute_result"
    }
   ],
   "source": [
    "type(bunny)"
   ]
  },
  {
   "cell_type": "code",
   "execution_count": 28,
   "metadata": {},
   "outputs": [
    {
     "data": {
      "text/plain": [
       "['thumbimage']"
      ]
     },
     "execution_count": 28,
     "metadata": {},
     "output_type": "execute_result"
    }
   ],
   "source": [
    "bunny['class']"
   ]
  },
  {
   "cell_type": "code",
   "execution_count": 29,
   "metadata": {},
   "outputs": [
    {
     "data": {
      "text/plain": [
       "'//upload.wikimedia.org/wikipedia/commons/thumb/4/4a/Lindt_bunnies.jpg/220px-Lindt_bunnies.jpg'"
      ]
     },
     "execution_count": 29,
     "metadata": {},
     "output_type": "execute_result"
    }
   ],
   "source": [
    "bunny['src']"
   ]
  },
  {
   "cell_type": "code",
   "execution_count": null,
   "metadata": {},
   "outputs": [],
   "source": []
  },
  {
   "cell_type": "markdown",
   "metadata": {},
   "source": [
    "<img \n",
    "src = '//upload.wikimedia.org/wikipedia/commons/thumb/4/4a/Lindt_bunnies.jpg/220px-Lindt_bunnies.jpg'>"
   ]
  },
  {
   "cell_type": "code",
   "execution_count": 31,
   "metadata": {},
   "outputs": [],
   "source": [
    "image_link = requests.get('https://upload.wikimedia.org/wikipedia/commons/thumb/4/4a/Lindt_bunnies.jpg/220px-Lindt_bunnies.jpg')"
   ]
  },
  {
   "cell_type": "code",
   "execution_count": 33,
   "metadata": {},
   "outputs": [],
   "source": [
    "# image_link.content"
   ]
  },
  {
   "cell_type": "code",
   "execution_count": 34,
   "metadata": {},
   "outputs": [],
   "source": [
    "f = open('my_bunny_image.jpg','wb')"
   ]
  },
  {
   "cell_type": "code",
   "execution_count": 35,
   "metadata": {},
   "outputs": [
    {
     "data": {
      "text/plain": [
       "20149"
      ]
     },
     "execution_count": 35,
     "metadata": {},
     "output_type": "execute_result"
    }
   ],
   "source": [
    "f.write(image_link.content)"
   ]
  },
  {
   "cell_type": "code",
   "execution_count": 36,
   "metadata": {},
   "outputs": [],
   "source": [
    "f.close()"
   ]
  },
  {
   "cell_type": "code",
   "execution_count": null,
   "metadata": {},
   "outputs": [],
   "source": []
  }
 ],
 "metadata": {
  "kernelspec": {
   "display_name": "Python 3",
   "language": "python",
   "name": "python3"
  },
  "language_info": {
   "codemirror_mode": {
    "name": "ipython",
    "version": 3
   },
   "file_extension": ".py",
   "mimetype": "text/x-python",
   "name": "python",
   "nbconvert_exporter": "python",
   "pygments_lexer": "ipython3",
   "version": "3.8.5"
  }
 },
 "nbformat": 4,
 "nbformat_minor": 4
}
