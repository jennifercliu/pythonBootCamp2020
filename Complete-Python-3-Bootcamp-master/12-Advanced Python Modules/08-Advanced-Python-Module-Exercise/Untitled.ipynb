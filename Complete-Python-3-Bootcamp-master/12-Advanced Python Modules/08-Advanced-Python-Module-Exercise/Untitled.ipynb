{
 "cells": [
  {
   "cell_type": "code",
   "execution_count": 1,
   "metadata": {},
   "outputs": [],
   "source": [
    "import shutil"
   ]
  },
  {
   "cell_type": "code",
   "execution_count": 3,
   "metadata": {},
   "outputs": [],
   "source": [
    "shutil.unpack_archive('unzip_me_for_instructions.zip','unzip','zip')"
   ]
  },
  {
   "cell_type": "markdown",
   "metadata": {},
   "source": [
    "# Good work on unzipping the file!\n",
    "You should now see 5 folders, each with a lot of random .txt files.\n",
    "Within one of these text files is a telephone number formated ###-###-#### \n",
    "Use the Python os module and regular expressions to iterate through each file, open it, and search for a telephone number.\n",
    "Good luck!"
   ]
  },
  {
   "cell_type": "code",
   "execution_count": 6,
   "metadata": {},
   "outputs": [
    {
     "ename": "NameError",
     "evalue": "name 'os' is not defined",
     "output_type": "error",
     "traceback": [
      "\u001b[0;31m---------------------------------------------------------------------------\u001b[0m",
      "\u001b[0;31mNameError\u001b[0m                                 Traceback (most recent call last)",
      "\u001b[0;32m<ipython-input-6-a78b1fb2bab9>\u001b[0m in \u001b[0;36m<module>\u001b[0;34m\u001b[0m\n\u001b[0;32m----> 1\u001b[0;31m \u001b[0mos\u001b[0m\u001b[0;34m.\u001b[0m\u001b[0mgetcwd\u001b[0m\u001b[0;34m(\u001b[0m\u001b[0;34m)\u001b[0m\u001b[0;34m\u001b[0m\u001b[0;34m\u001b[0m\u001b[0m\n\u001b[0m",
      "\u001b[0;31mNameError\u001b[0m: name 'os' is not defined"
     ]
    }
   ],
   "source": [
    "os.getcwd()"
   ]
  },
  {
   "cell_type": "code",
   "execution_count": 7,
   "metadata": {},
   "outputs": [],
   "source": [
    "import os"
   ]
  },
  {
   "cell_type": "code",
   "execution_count": 8,
   "metadata": {},
   "outputs": [
    {
     "data": {
      "text/plain": [
       "'/Users/jenniferliu/Desktop/python/Complete-Python-3-Bootcamp-master/12-Advanced Python Modules/08-Advanced-Python-Module-Exercise'"
      ]
     },
     "execution_count": 8,
     "metadata": {},
     "output_type": "execute_result"
    }
   ],
   "source": [
    "os.getcwd()"
   ]
  },
  {
   "cell_type": "code",
   "execution_count": 9,
   "metadata": {},
   "outputs": [
    {
     "data": {
      "text/plain": [
       "['07-Advanced-Modules-Exercise-Puzzle.ipynb',\n",
       " 'Untitled.ipynb',\n",
       " 'unzip',\n",
       " '08-Advanced-Modules-Exercise-Solutions.ipynb',\n",
       " 'unzip_me_for_instructions.zip',\n",
       " '.ipynb_checkpoints',\n",
       " 'extracted_content']"
      ]
     },
     "execution_count": 9,
     "metadata": {},
     "output_type": "execute_result"
    }
   ],
   "source": [
    "os.listdir()"
   ]
  },
  {
   "cell_type": "code",
   "execution_count": 11,
   "metadata": {},
   "outputs": [
    {
     "data": {
      "text/plain": [
       "['Instructions.txt', 'Three', 'One', 'Two', 'Five', 'Four']"
      ]
     },
     "execution_count": 11,
     "metadata": {},
     "output_type": "execute_result"
    }
   ],
   "source": [
    "os.listdir('/Users/jenniferliu/Desktop/python/Complete-Python-3-Bootcamp-master/12-Advanced Python Modules/08-Advanced-Python-Module-Exercise/unzip/extracted_content')"
   ]
  },
  {
   "cell_type": "code",
   "execution_count": 12,
   "metadata": {},
   "outputs": [],
   "source": [
    "path = '/Users/jenniferliu/Desktop/python/Complete-Python-3-Bootcamp-master/12-Advanced Python Modules/08-Advanced-Python-Module-Exercise/unzip/extracted_content'"
   ]
  },
  {
   "cell_type": "code",
   "execution_count": 26,
   "metadata": {},
   "outputs": [
    {
     "name": "stdout",
     "output_type": "stream",
     "text": [
      "Currently looking at /Users/jenniferliu/Desktop/python/Complete-Python-3-Bootcamp-master/12-Advanced Python Modules/08-Advanced-Python-Module-Exercise/unzip/extracted_content\n",
      "\n",
      "\n",
      "The subfolders are: \n",
      "\t Subfolder: Three\n",
      "\t Subfolder: One\n",
      "\t Subfolder: Two\n",
      "\t Subfolder: Five\n",
      "\t Subfolder: Four\n",
      "\n",
      "\n",
      "The files are: \n",
      "\t File: Instructions.txt\n",
      "Good work on unzipping the file!\n",
      "You should now see 5 folders, each with a lot of random .txt files.\n",
      "Within one of these text files is a telephone number formated ###-###-#### \n",
      "Use the Python os module and regular expressions to iterate through each file, open it, and search for a telephone number.\n",
      "Good luck!\n",
      "\n",
      "\n",
      "Currently looking at /Users/jenniferliu/Desktop/python/Complete-Python-3-Bootcamp-master/12-Advanced Python Modules/08-Advanced-Python-Module-Exercise/unzip/extracted_content/Three\n",
      "\n",
      "\n",
      "The subfolders are: \n",
      "\n",
      "\n",
      "The files are: \n",
      "\t File: VSXFSTABZDY.txt\n"
     ]
    },
    {
     "ename": "FileNotFoundError",
     "evalue": "[Errno 2] No such file or directory: '/Users/jenniferliu/Desktop/python/Complete-Python-3-Bootcamp-master/12-Advanced Python Modules/08-Advanced-Python-Module-Exercise/unzip/extracted_content/VSXFSTABZDY.txt'",
     "output_type": "error",
     "traceback": [
      "\u001b[0;31m---------------------------------------------------------------------------\u001b[0m",
      "\u001b[0;31mFileNotFoundError\u001b[0m                         Traceback (most recent call last)",
      "\u001b[0;32m<ipython-input-26-e30a4995e441>\u001b[0m in \u001b[0;36m<module>\u001b[0;34m\u001b[0m\n\u001b[1;32m     10\u001b[0m     \u001b[0;32mfor\u001b[0m \u001b[0mf\u001b[0m \u001b[0;32min\u001b[0m \u001b[0mfiles\u001b[0m\u001b[0;34m:\u001b[0m\u001b[0;34m\u001b[0m\u001b[0;34m\u001b[0m\u001b[0m\n\u001b[1;32m     11\u001b[0m         \u001b[0mprint\u001b[0m \u001b[0;34m(\u001b[0m\u001b[0;34mf\"\\t File: {f}\"\u001b[0m\u001b[0;34m)\u001b[0m\u001b[0;34m\u001b[0m\u001b[0;34m\u001b[0m\u001b[0m\n\u001b[0;32m---> 12\u001b[0;31m         \u001b[0;32mwith\u001b[0m \u001b[0mopen\u001b[0m\u001b[0;34m(\u001b[0m\u001b[0;34mf'{path}/{f}'\u001b[0m\u001b[0;34m)\u001b[0m \u001b[0;32mas\u001b[0m \u001b[0mf\u001b[0m\u001b[0;34m:\u001b[0m\u001b[0;34m\u001b[0m\u001b[0;34m\u001b[0m\u001b[0m\n\u001b[0m\u001b[1;32m     13\u001b[0m             \u001b[0mcontent\u001b[0m \u001b[0;34m=\u001b[0m \u001b[0mf\u001b[0m\u001b[0;34m.\u001b[0m\u001b[0mread\u001b[0m\u001b[0;34m(\u001b[0m\u001b[0;34m)\u001b[0m\u001b[0;34m\u001b[0m\u001b[0;34m\u001b[0m\u001b[0m\n\u001b[1;32m     14\u001b[0m             \u001b[0mprint\u001b[0m\u001b[0;34m(\u001b[0m\u001b[0mcontent\u001b[0m\u001b[0;34m)\u001b[0m\u001b[0;34m\u001b[0m\u001b[0;34m\u001b[0m\u001b[0m\n",
      "\u001b[0;31mFileNotFoundError\u001b[0m: [Errno 2] No such file or directory: '/Users/jenniferliu/Desktop/python/Complete-Python-3-Bootcamp-master/12-Advanced Python Modules/08-Advanced-Python-Module-Exercise/unzip/extracted_content/VSXFSTABZDY.txt'"
     ]
    }
   ],
   "source": [
    "for folder, sub_folders,files in os.walk(path):\n",
    "    print(f\"Currently looking at {folder}\")\n",
    "    print('\\n')\n",
    "    print('The subfolders are: ')\n",
    "    for sub_fold in sub_folders:\n",
    "        print(f\"\\t Subfolder: {sub_fold}\")\n",
    "        \n",
    "    print('\\n')\n",
    "    print(\"The files are: \")\n",
    "    for f in files:\n",
    "        print (f\"\\t File: {f}\")\n",
    "        with open(f'{path}/{f}') as f:\n",
    "            content = f.read()\n",
    "            print(content)\n",
    "        \n",
    "    print('\\n')"
   ]
  },
  {
   "cell_type": "code",
   "execution_count": 17,
   "metadata": {},
   "outputs": [
    {
     "name": "stdout",
     "output_type": "stream",
     "text": [
      "Proin malesuada nondonec.Lobortisetiam erosin montes ultricies.Id nunccurabitur diaminteger justo enim ex.Ornare magna potenti habitasse, nec vehicula nisl mi exerci tempor.Minim facilisisproin, euismod leo ut primis diam.Malesuadanullam ipsumcurabitur iriure porttitor.Mattis accusam aptent purus per exerci.Luptatum mi.Volutpatut vitae scelerisque curabitur, accumsannulla nobis molestie ut varius dolore ac adipiscing magnainteger.Cum nisised rhoncusmaecenas ut pellentesque facer, vivamus augue mattis exerci bibendum possim.Facilisis consecteturpraesent cursus sem eum.Nibh quammaecenas cum justocras nisl, facilisisproin bibendumfusce dignissim.Convallis nec minulla litora condimentum, mi pulvinar auctormauris libero dolore.Nulla cursus.Nonummy iusto lectus mus laoreet esse malesuadanullam neque, doming ultriciespellentesque feliscras orci hendrerit diaminteger soluta.Eget nisl sodales enimsed autem mipellentesque, consecteturpraesent vulputate nascetur qui ullamcorper.Takimata urnapraesent facilisi tortorcurabitur curae.Elitvivamus rutrum ultrices accusam ut eos rebum, at duis cubilia semvestibulum arcu luctus fames justocras.Lobortis duo consetetur montes metus pharetra muspellentesque, hendrerit mazim semvestibulum ante iusto mollis quod.Pulvinarvestibulum praesent integer potenti.Tation assum possim.Conguenulla risus lorem.Elitvivamus clita etiam malesuada.Bibendumfusce nunc blandit sedfusce ea, convallis consequatduis consequat sempermorbi porttitor tortor nullasuspendisse nobis class auctor.Enimnulla ea quam.Nisl leo.Facilisicurabitur habitant erat eget.Sanctus ultrices.Eos ultricies variuscras purus, class fames felis mipellentesque sociis interdum viverra curabitur.Nondonec primis liberoduis, sempermorbi eratproin tortorvestibulum venenatis.Dis wisi.Enimnulla posuere vestibulum.Ridiculus leo turpis neque, lobortis ornare accumsan tempor vivamus imperdiet illum dis nonummy.Sem bibendumin amet.Vero consecteturpraesent doming faucibus bibendumfusce volutpat sadipscing, nostrud nisised ullamcorper nihil ante ligula tempor.Malesuadanullam aliquet velit est nondonec, sagittis veniam consetetur muspellentesque vestibulum urnamorbi tortorvestibulum vulputate arcumorbi.Accumsannulla quisque suscipit ornare, takimata convallis augue bibendumfusce lacinia primis.Mipellentesque parturient rebum per odio, curae arcumorbi urnamorbi volutpatut phasellus etiam feugiat consectetur sanctus.Nulla magna lectusnullam praesent, iusto dictumstvivamus natoque dictum magnainteger cum delenit.Nondonec sedfusce, pulvinarvestibulum veniam habitasse senectus tortorvestibulum convallis.Te consetetur iusto scelerisque.Antesuspendisse justocras nullasuspendisse kasd diaminteger himenaeos, nonummy class inceptos adipiscing semper no pretium eget.Aptent phasellus quammaecenas mollis quis.Faucibusvestibulum nunccurabitur diam varius vestibulumnulla maecenas, voluptua accumsannulla aenean viverra aaenean telluspraesent ridiculus.Dolores consectetuer dolor.Exerci himenaeos nobis pretium nisl a.Tortor auctormauris nobis ac cursus, cubilia nullasuspendisse vestibulum illum eros condimentum sadipscing consequatduis in consectetuer.Dolor vulputate consectetuer duimauris magnainteger laoreet, litora auctor leo amet felis.Nullam consequat soluta, luctus voluptua erosin libero iriure.Liberoduis mollis gravida lacusnulla nec nisi possim, consequatduis eros metusdonec vestibulumnulla risusdonec tempor platea donec.\n"
     ]
    }
   ],
   "source": [
    "example_file = open(\"/Users/jenniferliu/Desktop/python/Complete-Python-3-Bootcamp-master/12-Advanced Python Modules/08-Advanced-Python-Module-Exercise/unzip/extracted_content/Four/WHTOHQUWXIN.txt\", \"r\")\n",
    "print(example_file.read())"
   ]
  },
  {
   "cell_type": "code",
   "execution_count": 24,
   "metadata": {},
   "outputs": [
    {
     "name": "stdout",
     "output_type": "stream",
     "text": [
      "Good work on unzipping the file!\n",
      "You should now see 5 folders, each with a lot of random .txt files.\n",
      "Within one of these text files is a telephone number formated ###-###-#### \n",
      "Use the Python os module and regular expressions to iterate through each file, open it, and search for a telephone number.\n",
      "Good luck!\n"
     ]
    }
   ],
   "source": [
    "with open('extracted_content/Instructions.txt') as f:\n",
    "    content = f.read()\n",
    "    print(content)"
   ]
  },
  {
   "cell_type": "code",
   "execution_count": 27,
   "metadata": {},
   "outputs": [],
   "source": [
    "import re"
   ]
  },
  {
   "cell_type": "code",
   "execution_count": 29,
   "metadata": {},
   "outputs": [],
   "source": [
    "pattern = r'\\d{3}-\\d{3}-\\d{4}'"
   ]
  },
  {
   "cell_type": "code",
   "execution_count": 30,
   "metadata": {},
   "outputs": [],
   "source": [
    "test = 'here is a phone number 123-123-1234'"
   ]
  },
  {
   "cell_type": "code",
   "execution_count": 31,
   "metadata": {},
   "outputs": [
    {
     "data": {
      "text/plain": [
       "['123-123-1234']"
      ]
     },
     "execution_count": 31,
     "metadata": {},
     "output_type": "execute_result"
    }
   ],
   "source": [
    "re.findall(pattern,test)"
   ]
  },
  {
   "cell_type": "code",
   "execution_count": 38,
   "metadata": {},
   "outputs": [],
   "source": [
    "def search(file,pattern = r'\\d{3}-\\d{3}-\\d{4}' ):\n",
    "    f = open(file,'r')\n",
    "    text = f.read()\n",
    "    \n",
    "    if re.search(pattern, text):\n",
    "        return re.search(pattern, text)\n",
    "    else:\n",
    "        return ''"
   ]
  },
  {
   "cell_type": "code",
   "execution_count": 49,
   "metadata": {},
   "outputs": [],
   "source": [
    "results = []"
   ]
  },
  {
   "cell_type": "code",
   "execution_count": 50,
   "metadata": {},
   "outputs": [
    {
     "data": {
      "text/plain": [
       "'/Users/jenniferliu/Desktop/python/Complete-Python-3-Bootcamp-master/12-Advanced Python Modules/08-Advanced-Python-Module-Exercise'"
      ]
     },
     "execution_count": 50,
     "metadata": {},
     "output_type": "execute_result"
    }
   ],
   "source": [
    "os.getcwd()"
   ]
  },
  {
   "cell_type": "code",
   "execution_count": 51,
   "metadata": {},
   "outputs": [],
   "source": [
    "for folder,sub_folders,files in os.walk(os.getcwd()+'/extracted_content'):\n",
    "    \n",
    "    for f in files:\n",
    "        full_path = folder+'/'+f\n",
    "        #print(full_path)\n",
    "        \n",
    "        results.append(search(full_path))"
   ]
  },
  {
   "cell_type": "code",
   "execution_count": 52,
   "metadata": {},
   "outputs": [
    {
     "name": "stdout",
     "output_type": "stream",
     "text": [
      "719-266-2837\n"
     ]
    }
   ],
   "source": [
    "for r in results:\n",
    "    if r != '':\n",
    "        print(r.group())"
   ]
  },
  {
   "cell_type": "code",
   "execution_count": null,
   "metadata": {},
   "outputs": [],
   "source": []
  }
 ],
 "metadata": {
  "kernelspec": {
   "display_name": "Python 3",
   "language": "python",
   "name": "python3"
  },
  "language_info": {
   "codemirror_mode": {
    "name": "ipython",
    "version": 3
   },
   "file_extension": ".py",
   "mimetype": "text/x-python",
   "name": "python",
   "nbconvert_exporter": "python",
   "pygments_lexer": "ipython3",
   "version": "3.8.5"
  }
 },
 "nbformat": 4,
 "nbformat_minor": 4
}
