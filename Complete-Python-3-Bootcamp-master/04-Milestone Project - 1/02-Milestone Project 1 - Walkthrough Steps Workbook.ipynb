{
 "cells": [
  {
   "cell_type": "markdown",
   "metadata": {},
   "source": [
    "___\n",
    "\n",
    "<a href='https://www.udemy.com/user/joseportilla/'><img src='../Pierian_Data_Logo.png'/></a>\n",
    "___\n",
    "<center><em>Content Copyright by Pierian Data</em></center>"
   ]
  },
  {
   "cell_type": "markdown",
   "metadata": {},
   "source": [
    "# Milestone Project 1: Walkthrough Steps Workbook\n",
    "\n",
    "Below is a set of steps for you to follow to try to create the Tic Tac Toe Milestone Project game!"
   ]
  },
  {
   "cell_type": "markdown",
   "metadata": {},
   "source": [
    "#### Some suggested tools before you get started:\n",
    "To take input from a user:\n",
    "\n",
    "    player1 = input(\"Please pick a marker 'X' or 'O'\")\n",
    "    \n",
    "Note that input() takes in a string. If you need an integer value, use\n",
    "\n",
    "    position = int(input('Please enter a number'))\n",
    "    \n",
    "<br>To clear the screen between moves:\n",
    "\n",
    "    from IPython.display import clear_output\n",
    "    clear_output()\n",
    "    \n",
    "Note that clear_output() will only work in jupyter. To clear the screen in other IDEs, consider:\n",
    "\n",
    "    print('\\n'*100)\n",
    "    \n",
    "This scrolls the previous board up out of view. Now on to the program!"
   ]
  },
  {
   "cell_type": "markdown",
   "metadata": {},
   "source": [
    "**Step 1: Write a function that can print out a board. Set up your board as a list, where each index 1-9 corresponds with a number on a number pad, so you get a 3 by 3 board representation.**"
   ]
  },
  {
   "cell_type": "code",
   "execution_count": 66,
   "metadata": {},
   "outputs": [],
   "source": [
    "from IPython.display import clear_output\n",
    "\n",
    "def display_board(board):\n",
    "    clear_output()\n",
    "    print('{}|{}|{}'.format(board[7],board[8],board[9]))\n",
    "    print('{}|{}|{}'.format(board[4],board[5],board[6]))\n",
    "    print('{}|{}|{}'.format(board[1],board[2],board[3]))"
   ]
  },
  {
   "cell_type": "markdown",
   "metadata": {},
   "source": [
    "**TEST Step 1:** run your function on a test version of the board list, and make adjustments as necessary"
   ]
  },
  {
   "cell_type": "code",
   "execution_count": 67,
   "metadata": {},
   "outputs": [
    {
     "name": "stdout",
     "output_type": "stream",
     "text": [
      "X|O|X\n",
      "O|X|O\n",
      "X|O|X\n"
     ]
    }
   ],
   "source": [
    "test_board = ['#','X','O','X','O','X','O','X','O','X']\n",
    "display_board(test_board)"
   ]
  },
  {
   "cell_type": "markdown",
   "metadata": {},
   "source": [
    "**Step 2: Write a function that can take in a player input and assign their marker as 'X' or 'O'. Think about using *while* loops to continually ask until you get a correct answer.**"
   ]
  },
  {
   "cell_type": "code",
   "execution_count": 36,
   "metadata": {},
   "outputs": [],
   "source": [
    "def player_input():\n",
    "    \n",
    "    #initial choice - X or O\n",
    "    marker = 'WRONG'\n",
    "    acceptable_values = ['X','O']\n",
    "    within_value = False\n",
    "    \n",
    "    while within_value == False:\n",
    "        marker = input(\"Do you want to be X or O: \")\n",
    "        \n",
    "        #acceptable value check\n",
    "        if marker in acceptable_values:\n",
    "            within_value = True\n",
    "            return marker\n",
    "        \n",
    "        else:\n",
    "            print(\"Sorry, please enter X or O: \")\n",
    "            within_value = False\n",
    "      \n",
    "     \n",
    "    \n",
    "\n",
    "\n",
    "    "
   ]
  },
  {
   "cell_type": "markdown",
   "metadata": {},
   "source": [
    "**TEST Step 2:** run the function to make sure it returns the desired output"
   ]
  },
  {
   "cell_type": "code",
   "execution_count": 35,
   "metadata": {},
   "outputs": [
    {
     "name": "stdout",
     "output_type": "stream",
     "text": [
      "False\n",
      "True\n",
      "Do you want to be X or O: 1\n",
      "Sorry, please enter X or O: \n",
      "Do you want to be X or O: O\n"
     ]
    },
    {
     "data": {
      "text/plain": [
       "'O'"
      ]
     },
     "execution_count": 35,
     "metadata": {},
     "output_type": "execute_result"
    }
   ],
   "source": [
    "player_input()"
   ]
  },
  {
   "cell_type": "markdown",
   "metadata": {},
   "source": [
    "**Step 3: Write a function that takes in the board list object, a marker ('X' or 'O'), and a desired position (number 1-9) and assigns it to the board.**"
   ]
  },
  {
   "cell_type": "code",
   "execution_count": 5,
   "metadata": {},
   "outputs": [],
   "source": [
    "def place_marker(board, marker, position):\n",
    "    \n",
    "    board[position] = marker\n",
    "    \n"
   ]
  },
  {
   "cell_type": "markdown",
   "metadata": {},
   "source": [
    "**TEST Step 3:** run the place marker function using test parameters and display the modified board"
   ]
  },
  {
   "cell_type": "code",
   "execution_count": 6,
   "metadata": {},
   "outputs": [
    {
     "name": "stdout",
     "output_type": "stream",
     "text": [
      "X|$|X\n",
      "O|X|O\n",
      "X|O|X\n"
     ]
    }
   ],
   "source": [
    "place_marker(test_board,'$',8)\n",
    "display_board(test_board)"
   ]
  },
  {
   "cell_type": "markdown",
   "metadata": {},
   "source": [
    "**Step 4: Write a function that takes in a board and a mark (X or O) and then checks to see if that mark has won. **"
   ]
  },
  {
   "cell_type": "code",
   "execution_count": 7,
   "metadata": {},
   "outputs": [],
   "source": [
    "def win_check(board, mark):\n",
    "    \n",
    "    if board[7] == board[8] == board [9] and board[7] != \" \":\n",
    "        print(\"{} won!\".format(mark))\n",
    "        return True\n",
    "    elif board[4] == board[5] == board [6] and board[4] != \" \":\n",
    "        print(\"{} won!\".format(mark))\n",
    "        return True\n",
    "    elif board[1] == board[2] == board [3] and board[1] != \" \":\n",
    "        print(\"{} won!\".format(mark))\n",
    "        return True\n",
    "    elif board[1] == board[5] == board [9] and board[1] != \" \":\n",
    "        print(\"{} won!\".format(mark))\n",
    "        return True\n",
    "    elif board[7] == board[5] == board [3] and board[7] != \" \":\n",
    "        print(\"{} won!\".format(mark))\n",
    "        return True\n",
    "    elif board[1] == board[4] == board [7] and board[1] != \" \":\n",
    "        print(\"{} won!\".format(mark))\n",
    "        return True\n",
    "    elif board[2] == board[5] == board [8] and board[2] != \" \":\n",
    "        print(\"{} won!\".format(mark))\n",
    "        return True\n",
    "    elif board[3] == board[6] == board [9] and board[3] != \" \":\n",
    "        print(\"{} won!\".format(mark))\n",
    "        return True\n",
    "    elif full_board_check(board) == True:\n",
    "        print(\"ITS A TIE!\")\n",
    "        return True\n",
    "    else:\n",
    "        return False\n",
    "    \n"
   ]
  },
  {
   "cell_type": "markdown",
   "metadata": {},
   "source": [
    "**TEST Step 4:** run the win_check function against our test_board - it should return True"
   ]
  },
  {
   "cell_type": "code",
   "execution_count": 8,
   "metadata": {},
   "outputs": [
    {
     "name": "stdout",
     "output_type": "stream",
     "text": [
      "X won!\n"
     ]
    },
    {
     "data": {
      "text/plain": [
       "True"
      ]
     },
     "execution_count": 8,
     "metadata": {},
     "output_type": "execute_result"
    }
   ],
   "source": [
    "win_check(test_board,'X')"
   ]
  },
  {
   "cell_type": "markdown",
   "metadata": {},
   "source": [
    "**Step 5: Write a function that uses the random module to randomly decide which player goes first. You may want to lookup random.randint() Return a string of which player went first.**"
   ]
  },
  {
   "cell_type": "code",
   "execution_count": 9,
   "metadata": {},
   "outputs": [],
   "source": [
    "import random\n",
    "\n",
    "def choose_first():\n",
    "    \n",
    "    player = random.randint(1,2)\n",
    "    \n",
    "    print(\"Player {} goes first!\".format(player))"
   ]
  },
  {
   "cell_type": "markdown",
   "metadata": {},
   "source": [
    "**Step 6: Write a function that returns a boolean indicating whether a space on the board is freely available.**"
   ]
  },
  {
   "cell_type": "code",
   "execution_count": 10,
   "metadata": {},
   "outputs": [],
   "source": [
    "def space_check(board, position):\n",
    "    \n",
    "    if board[position] == \" \":\n",
    "        return True\n",
    "    \n",
    "    return False"
   ]
  },
  {
   "cell_type": "markdown",
   "metadata": {},
   "source": [
    "**Step 7: Write a function that checks if the board is full and returns a boolean value. True if full, False otherwise.**"
   ]
  },
  {
   "cell_type": "code",
   "execution_count": 11,
   "metadata": {},
   "outputs": [],
   "source": [
    "def full_board_check(board):\n",
    "    \n",
    "    for x in board:\n",
    "        if x == \" \":\n",
    "            return False\n",
    "    \n",
    "    return True   "
   ]
  },
  {
   "cell_type": "markdown",
   "metadata": {},
   "source": [
    "**Step 8: Write a function that asks for a player's next position (as a number 1-9) and then uses the function from step 6 to check if it's a free position. If it is, then return the position for later use.**"
   ]
  },
  {
   "cell_type": "code",
   "execution_count": 37,
   "metadata": {},
   "outputs": [],
   "source": [
    "def player_choice(board):\n",
    "    \n",
    "     #inital choice - digit\n",
    "    position = 'WRONG'\n",
    "    acceptable_range = range(1,10)\n",
    "    within_range = False\n",
    "    \n",
    "    #digit or within range = false:\n",
    "    while within_range == False:\n",
    "        position = input(\"Pick a number between 1-9: \")\n",
    "        \n",
    "        #acceptable range check:\n",
    "        if int(position) in acceptable_range:\n",
    "            within_range = True\n",
    "        else:\n",
    "            print(\"Sorry, please enter a number between 1-9: \")\n",
    "            within_value = False\n",
    "        \n",
    "        #check if space available\n",
    "        if space_check(board, int(position)):\n",
    "            return int(position)\n",
    "        else:\n",
    "            print(\"THAT SPACE IS NOT FREE\")\n",
    "            within_range = False\n",
    "              \n",
    "    \n",
    "   \n",
    "    \n",
    "    \n",
    "    \n",
    "    "
   ]
  },
  {
   "cell_type": "markdown",
   "metadata": {},
   "source": [
    "**Step 9: Write a function that asks the player if they want to play again and returns a boolean True if they do want to play again.**"
   ]
  },
  {
   "cell_type": "code",
   "execution_count": 61,
   "metadata": {},
   "outputs": [],
   "source": [
    "def replay():\n",
    "    \n",
    "    player_choice = \"WRONG\"\n",
    "    play_again = False\n",
    "    \n",
    "    while play_again == False:\n",
    "        player_choice = input(\"Do you want to play again? Y or N: \")\n",
    "        \n",
    "        if player_choice == \"Y\":\n",
    "            play_again = True\n",
    "            return True\n",
    "            \n",
    "        elif player_choice == \"N\":\n",
    "            play_again = False\n",
    "            return False\n",
    "        \n",
    "        else: \n",
    "            print(\"Please pick Y or N\")\n",
    "            play_again = False\n",
    "        \n",
    "            \n",
    "    \n",
    "    "
   ]
  },
  {
   "cell_type": "markdown",
   "metadata": {
    "collapsed": true
   },
   "source": [
    "**Step 10: Here comes the hard part! Use while loops and the functions you've made to run the game!**"
   ]
  },
  {
   "cell_type": "code",
   "execution_count": 65,
   "metadata": {},
   "outputs": [],
   "source": [
    "def game():\n",
    "    \n",
    "    #variables\n",
    "    \n",
    "    print('Welcome to Tic Tac Toe!')\n",
    "    game_on = True\n",
    "    board = ['#',' ',' ',' ',' ',' ',' ',' ',' ',' ']\n",
    "\n",
    "    # Set the game up here\n",
    "    \n",
    "    display_board(board)\n",
    "\n",
    "    #choose which player is first:\n",
    "    choose_first()\n",
    "    \n",
    "    #Player 1 Turn - pick if X or O\n",
    "    \n",
    "    marker = player_input()\n",
    "    \n",
    "    #while game_on:\n",
    "        \n",
    "    while game_on == True:\n",
    "   \n",
    "        #what position do they want to put their marker\n",
    "        position = player_choice(board)\n",
    "        \n",
    "        position = int(position)\n",
    "    #put their maker on board location:\n",
    "        place_marker(board, marker, position)\n",
    "        \n",
    "        display_board(board)\n",
    "        \n",
    "    #check for winner\n",
    "        \n",
    "        if win_check(board,marker) == True:\n",
    "            game_on = False\n",
    "        elif win_check(board,marker) == False:\n",
    "            pass\n",
    "        \n",
    "        #change marker after turn over\n",
    "        \n",
    "        if marker == \"O\":\n",
    "            marker = \"X\"\n",
    "        elif marker == \"X\":\n",
    "            marker = \"O\"\n",
    "        \n",
    "    \n",
    "    #ask the user if they want to replay:\n",
    "            \n",
    "    if replay() == True:\n",
    "        game()\n",
    "    else:\n",
    "        print(\"Thanks for playing!\")\n",
    "        \n",
    "  "
   ]
  },
  {
   "cell_type": "code",
   "execution_count": 64,
   "metadata": {},
   "outputs": [
    {
     "name": "stdout",
     "output_type": "stream",
     "text": [
      "Welcome to Tic Tac Toe!\n",
      " | | \n",
      " | | \n",
      " | | \n",
      "Player 2 goes first!\n",
      "Do you want to be X or O: O\n",
      "Pick a number between 1-9: 1\n",
      " | | \n",
      " | | \n",
      "O| | \n",
      "Pick a number between 1-9: 2\n",
      " | | \n",
      " | | \n",
      "O|X| \n",
      "Pick a number between 1-9: 3\n",
      " | | \n",
      " | | \n",
      "O|X|O\n",
      "Pick a number between 1-9: 4\n",
      " | | \n",
      "X| | \n",
      "O|X|O\n",
      "Pick a number between 1-9: 5\n",
      " | | \n",
      "X|O| \n",
      "O|X|O\n",
      "Pick a number between 1-9: 6\n",
      " | | \n",
      "X|O|X\n",
      "O|X|O\n",
      "Pick a number between 1-9: 7\n",
      "O| | \n",
      "X|O|X\n",
      "O|X|O\n",
      "O won!\n",
      "Do you want to play again? Y or N: 8\n",
      "Please pick Y or N\n",
      "Do you want to play again? Y or N: Y\n",
      "Welcome to Tic Tac Toe!\n",
      " | | \n",
      " | | \n",
      " | | \n",
      "Player 1 goes first!\n",
      "Do you want to be X or O: O\n",
      "Pick a number between 1-9: 1\n",
      " | | \n",
      " | | \n",
      "O| | \n",
      "Pick a number between 1-9: 2\n",
      " | | \n",
      " | | \n",
      "O|X| \n",
      "Pick a number between 1-9: 3\n",
      " | | \n",
      " | | \n",
      "O|X|O\n",
      "Pick a number between 1-9: 4\n",
      " | | \n",
      "X| | \n",
      "O|X|O\n",
      "Pick a number between 1-9: 5\n",
      " | | \n",
      "X|O| \n",
      "O|X|O\n",
      "Pick a number between 1-9: 9\n",
      " | |X\n",
      "X|O| \n",
      "O|X|O\n",
      "Pick a number between 1-9: 6\n",
      " | |X\n",
      "X|O|O\n",
      "O|X|O\n",
      "Pick a number between 1-9: 7\n",
      "X| |X\n",
      "X|O|O\n",
      "O|X|O\n",
      "Pick a number between 1-9: 8\n",
      "X|O|X\n",
      "X|O|O\n",
      "O|X|O\n",
      "ITS A TIE!\n",
      "Do you want to play again? Y or N: N\n",
      "Thanks for playing!\n"
     ]
    }
   ],
   "source": [
    "game()\n"
   ]
  },
  {
   "cell_type": "markdown",
   "metadata": {
    "collapsed": true
   },
   "source": [
    "# Good Job!"
   ]
  }
 ],
 "metadata": {
  "kernelspec": {
   "display_name": "Python 3",
   "language": "python",
   "name": "python3"
  },
  "language_info": {
   "codemirror_mode": {
    "name": "ipython",
    "version": 3
   },
   "file_extension": ".py",
   "mimetype": "text/x-python",
   "name": "python",
   "nbconvert_exporter": "python",
   "pygments_lexer": "ipython3",
   "version": "3.8.5"
  }
 },
 "nbformat": 4,
 "nbformat_minor": 1
}
