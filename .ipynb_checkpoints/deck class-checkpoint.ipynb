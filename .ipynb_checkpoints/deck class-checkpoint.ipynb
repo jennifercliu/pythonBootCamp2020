{
 "cells": [
  {
   "cell_type": "code",
   "execution_count": 1,
   "metadata": {},
   "outputs": [],
   "source": [
    "#instantiate new deck\n",
    "#create all 52 cards\n",
    "#hold as a list of card objects\n",
    "#shuffle"
   ]
  },
  {
   "cell_type": "code",
   "execution_count": 4,
   "metadata": {},
   "outputs": [],
   "source": [
    "# CARD\n",
    "# SUIT, RANK, value\n",
    "# deck\n",
    "#player\n",
    "import random\n",
    "\n",
    "suits = ('Hearts', 'Diamonds', 'Spades', 'Clubs')\n",
    "\n",
    "ranks = (\"Two\", \"Three\", \"Four\",\"Five\",\"Six\",\"Seven\", \"Eight\", \"Nine\", \n",
    "          \"Ten\", \"Jack\", \"Queen\", \"King\",\"Ace\")\n",
    "\n",
    "values = {\"Two\":2, \"Three\":3, \"Four\":4,\"Five\":5,\"Six\":6,\"Seven\":7, \"Eight\":8, \"Nine\":9, \n",
    "          \"Ten\":10, \"Jack\":11, \"Queen\":12, \"King\":13,\"Ace\":14,} "
   ]
  },
  {
   "cell_type": "code",
   "execution_count": 5,
   "metadata": {},
   "outputs": [],
   "source": [
    "class Card():\n",
    "    def __init__(self,suit,rank):\n",
    "        self.suit = suit\n",
    "        self.rank = rank\n",
    "        self.value = values[rank]\n",
    "        \n",
    "    def __str__(self):\n",
    "        return self.rank + \" of \" + self.suit"
   ]
  },
  {
   "cell_type": "code",
   "execution_count": 27,
   "metadata": {},
   "outputs": [],
   "source": [
    "class Deck():\n",
    "    def __init__(self):\n",
    "        \n",
    "        self.all_cards = []\n",
    "        \n",
    "        for suit in suits:\n",
    "            for rank in ranks:\n",
    "                # create the card object\n",
    "                created_card = Card(suit, rank)\n",
    "                \n",
    "                self.all_cards.append(created_card)\n",
    "    \n",
    "    def shuffle(self):\n",
    "        \n",
    "        random.shuffle(self.all_cards)\n",
    "        \n",
    "    def deal_one(self):\n",
    "        return self.all_cards.pop()"
   ]
  },
  {
   "cell_type": "code",
   "execution_count": 28,
   "metadata": {},
   "outputs": [],
   "source": [
    "new_deck = Deck()"
   ]
  },
  {
   "cell_type": "code",
   "execution_count": 29,
   "metadata": {},
   "outputs": [
    {
     "data": {
      "text/plain": [
       "[<__main__.Card at 0x7fce366051f0>,\n",
       " <__main__.Card at 0x7fce366058e0>,\n",
       " <__main__.Card at 0x7fce366050d0>,\n",
       " <__main__.Card at 0x7fce36605880>,\n",
       " <__main__.Card at 0x7fce36605730>,\n",
       " <__main__.Card at 0x7fce36605cd0>,\n",
       " <__main__.Card at 0x7fce36605160>,\n",
       " <__main__.Card at 0x7fce36605e80>,\n",
       " <__main__.Card at 0x7fce366055e0>,\n",
       " <__main__.Card at 0x7fce36479c40>,\n",
       " <__main__.Card at 0x7fce36479520>,\n",
       " <__main__.Card at 0x7fce364791c0>,\n",
       " <__main__.Card at 0x7fce36479460>,\n",
       " <__main__.Card at 0x7fce36479790>,\n",
       " <__main__.Card at 0x7fce364792b0>,\n",
       " <__main__.Card at 0x7fce36479d60>,\n",
       " <__main__.Card at 0x7fce36479940>,\n",
       " <__main__.Card at 0x7fce364798e0>,\n",
       " <__main__.Card at 0x7fce36479cd0>,\n",
       " <__main__.Card at 0x7fce36479e80>,\n",
       " <__main__.Card at 0x7fce36479730>,\n",
       " <__main__.Card at 0x7fce364791f0>,\n",
       " <__main__.Card at 0x7fce36479340>,\n",
       " <__main__.Card at 0x7fce36476160>,\n",
       " <__main__.Card at 0x7fce36476310>,\n",
       " <__main__.Card at 0x7fce36476b50>,\n",
       " <__main__.Card at 0x7fce36476f40>,\n",
       " <__main__.Card at 0x7fce36476dc0>,\n",
       " <__main__.Card at 0x7fce36476eb0>,\n",
       " <__main__.Card at 0x7fce36476e20>,\n",
       " <__main__.Card at 0x7fce36476ac0>,\n",
       " <__main__.Card at 0x7fce36476670>,\n",
       " <__main__.Card at 0x7fce36446d60>,\n",
       " <__main__.Card at 0x7fce36446ca0>,\n",
       " <__main__.Card at 0x7fce36446cd0>,\n",
       " <__main__.Card at 0x7fce36446be0>,\n",
       " <__main__.Card at 0x7fce36446c10>,\n",
       " <__main__.Card at 0x7fce36446af0>,\n",
       " <__main__.Card at 0x7fce36446a30>,\n",
       " <__main__.Card at 0x7fce36446ac0>,\n",
       " <__main__.Card at 0x7fce36446a90>,\n",
       " <__main__.Card at 0x7fce36446340>,\n",
       " <__main__.Card at 0x7fce36446a00>,\n",
       " <__main__.Card at 0x7fce36446880>,\n",
       " <__main__.Card at 0x7fce364468b0>,\n",
       " <__main__.Card at 0x7fce36446910>,\n",
       " <__main__.Card at 0x7fce36446670>,\n",
       " <__main__.Card at 0x7fce364467c0>,\n",
       " <__main__.Card at 0x7fce364466a0>,\n",
       " <__main__.Card at 0x7fce364464c0>,\n",
       " <__main__.Card at 0x7fce36446430>,\n",
       " <__main__.Card at 0x7fce36446460>]"
      ]
     },
     "execution_count": 29,
     "metadata": {},
     "output_type": "execute_result"
    }
   ],
   "source": [
    "new_deck.all_cards"
   ]
  },
  {
   "cell_type": "code",
   "execution_count": 20,
   "metadata": {},
   "outputs": [],
   "source": [
    "first_card = new_deck.all_cards[0]"
   ]
  },
  {
   "cell_type": "code",
   "execution_count": 21,
   "metadata": {},
   "outputs": [
    {
     "name": "stdout",
     "output_type": "stream",
     "text": [
      "Two of Hearts\n"
     ]
    }
   ],
   "source": [
    "print(first_card)"
   ]
  },
  {
   "cell_type": "code",
   "execution_count": 22,
   "metadata": {},
   "outputs": [],
   "source": [
    "last_card = new_deck.all_cards[-1]"
   ]
  },
  {
   "cell_type": "code",
   "execution_count": 23,
   "metadata": {},
   "outputs": [
    {
     "name": "stdout",
     "output_type": "stream",
     "text": [
      "Ace of Clubs\n"
     ]
    }
   ],
   "source": [
    "print(last_card)"
   ]
  },
  {
   "cell_type": "code",
   "execution_count": 25,
   "metadata": {},
   "outputs": [],
   "source": [
    "new_deck.shuffle()"
   ]
  },
  {
   "cell_type": "code",
   "execution_count": 26,
   "metadata": {},
   "outputs": [
    {
     "name": "stdout",
     "output_type": "stream",
     "text": [
      "Three of Spades\n",
      "Seven of Hearts\n",
      "Four of Hearts\n",
      "Nine of Spades\n",
      "Two of Hearts\n",
      "Nine of Clubs\n",
      "Jack of Hearts\n",
      "Four of Clubs\n",
      "Jack of Clubs\n",
      "Five of Clubs\n",
      "Queen of Diamonds\n",
      "King of Spades\n",
      "Five of Diamonds\n",
      "Ace of Spades\n",
      "Five of Spades\n",
      "Six of Clubs\n",
      "Queen of Spades\n",
      "Nine of Diamonds\n",
      "Three of Clubs\n",
      "Jack of Diamonds\n",
      "Queen of Hearts\n",
      "Eight of Spades\n",
      "Two of Diamonds\n",
      "Two of Spades\n",
      "Six of Hearts\n",
      "Four of Diamonds\n",
      "Jack of Spades\n",
      "Two of Clubs\n",
      "King of Diamonds\n",
      "Six of Spades\n",
      "Five of Hearts\n",
      "Nine of Hearts\n",
      "Ten of Hearts\n",
      "Eight of Diamonds\n",
      "King of Hearts\n",
      "Ace of Hearts\n",
      "Ace of Clubs\n",
      "Ace of Diamonds\n",
      "Six of Diamonds\n",
      "Queen of Clubs\n",
      "Seven of Clubs\n",
      "Seven of Spades\n",
      "Eight of Clubs\n",
      "Three of Diamonds\n",
      "Eight of Hearts\n",
      "King of Clubs\n",
      "Ten of Clubs\n",
      "Seven of Diamonds\n",
      "Ten of Diamonds\n",
      "Four of Spades\n",
      "Ten of Spades\n",
      "Three of Hearts\n"
     ]
    }
   ],
   "source": [
    "for card_object in new_deck.all_cards:\n",
    "    print (card_object)"
   ]
  },
  {
   "cell_type": "code",
   "execution_count": 31,
   "metadata": {},
   "outputs": [],
   "source": [
    "new_deck.shuffle()"
   ]
  },
  {
   "cell_type": "code",
   "execution_count": 32,
   "metadata": {},
   "outputs": [],
   "source": [
    "mycard = new_deck.deal_one()"
   ]
  },
  {
   "cell_type": "code",
   "execution_count": 33,
   "metadata": {},
   "outputs": [
    {
     "data": {
      "text/plain": [
       "<__main__.Card at 0x7fce364467c0>"
      ]
     },
     "execution_count": 33,
     "metadata": {},
     "output_type": "execute_result"
    }
   ],
   "source": [
    "mycard"
   ]
  },
  {
   "cell_type": "code",
   "execution_count": 34,
   "metadata": {},
   "outputs": [
    {
     "name": "stdout",
     "output_type": "stream",
     "text": [
      "Ten of Clubs\n"
     ]
    }
   ],
   "source": [
    "print(mycard)"
   ]
  },
  {
   "cell_type": "code",
   "execution_count": 36,
   "metadata": {},
   "outputs": [
    {
     "data": {
      "text/plain": [
       "51"
      ]
     },
     "execution_count": 36,
     "metadata": {},
     "output_type": "execute_result"
    }
   ],
   "source": [
    "len(new_deck.all_cards)"
   ]
  },
  {
   "cell_type": "code",
   "execution_count": null,
   "metadata": {},
   "outputs": [],
   "source": []
  }
 ],
 "metadata": {
  "kernelspec": {
   "display_name": "Python 3",
   "language": "python",
   "name": "python3"
  },
  "language_info": {
   "codemirror_mode": {
    "name": "ipython",
    "version": 3
   },
   "file_extension": ".py",
   "mimetype": "text/x-python",
   "name": "python",
   "nbconvert_exporter": "python",
   "pygments_lexer": "ipython3",
   "version": "3.8.5"
  }
 },
 "nbformat": 4,
 "nbformat_minor": 4
}
